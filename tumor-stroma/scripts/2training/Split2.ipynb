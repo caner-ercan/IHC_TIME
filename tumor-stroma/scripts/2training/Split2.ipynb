{
 "cells": [
  {
   "cell_type": "markdown",
   "metadata": {},
   "source": [
    "## Working System:\n",
    "Keeps all the tiles coming from the same slide within the same training or validation group.\n",
    "Splits slides into training and validation groups and generates a validation file list.\n",
    "\n",
    "__source:__\n",
    "\n",
    "images/\\\n",
    "&emsp;B2020.xxxx image11.png\\\n",
    "&emsp;B2020.xxxx image12.png\\\n",
    "&emsp;B2019.xxxx image21.png\\\n",
    "&emsp;B2019.xxxx image22.png\\\n",
    "&emsp;B2018.xxx image33.png\\\n",
    "&emsp;B2018.xxx image34.png\\\n",
    "&emsp;.\\\n",
    "&emsp;.\\\n",
    "&emsp;.\\\n",
    "&emsp;\\\n",
    "labels/\\\n",
    "&emsp;B2020.xxxx image11-labelled.png\\\n",
    "&emsp;B2020.xxxx image12-labelled.png\\\n",
    "&emsp;B2019.xxxx image21-labelled.png\\\n",
    "&emsp;B2019.xxxx image21-labelled.png\\\n",
    "&emsp;B2018.xxx iamge33-labelled.png\\\n",
    "&emsp;B2018.xxx iamge34-labelled.png\\\n",
    "&emsp;.\\\n",
    "&emsp;.\\\n",
    "&emsp;.\n",
    "\n",
    "__target:__\n",
    "\n",
    "val.txt  \n",
    "\n",
    "`image21.png`\\\n",
    "`image22.png`\n"
   ]
  },
  {
   "cell_type": "code",
   "execution_count": 1,
   "metadata": {},
   "outputs": [],
   "source": [
    "from os import path\n",
    "import os\n",
    "import numpy as np\n",
    "import shutil\n",
    "import pandas as pd\n",
    "import sys\n",
    "from pathlib import Path"
   ]
  },
  {
   "cell_type": "code",
   "execution_count": 2,
   "metadata": {},
   "outputs": [],
   "source": [
    "imageDir = \"/scicore/home/pissal00/ercan0000/220310_training/GT/\"\n",
    "allFile = os.listdir(imageDir)"
   ]
  },
  {
   "cell_type": "code",
   "execution_count": 3,
   "metadata": {},
   "outputs": [],
   "source": [
    "os.mkdir(os.path.join(imageDir, \"labels\"))\n",
    "os.mkdir(os.path.join(imageDir, \"images\"))"
   ]
  },
  {
   "cell_type": "code",
   "execution_count": 4,
   "metadata": {},
   "outputs": [],
   "source": [
    "for tile in allFile:\n",
    "    if tile.endswith(\"-labelled.png\"):\n",
    "        shutil.move(os.path.join(imageDir, tile), os.path.join(imageDir, \"labels\", tile))\n",
    "    elif tile.endswith(\".png\"):\n",
    "        shutil.move(os.path.join(imageDir, tile), os.path.join(imageDir, \"images\", tile))"
   ]
  },
  {
   "cell_type": "code",
   "execution_count": 5,
   "metadata": {},
   "outputs": [],
   "source": [
    "output = os.path.join(imageDir, \"images.txt\")\n",
    "Path(output).touch()\n",
    "\n",
    "allImages = os.listdir(os.path.join(imageDir,'images'))\n",
    "\n",
    "orig_stdout = sys.stdout\n",
    "f = open(output, 'w')\n",
    "sys.stdout = f\n",
    "\n",
    "for image in allImages:\n",
    "    #name , extension = path.splitext(image)\n",
    "    print(image)\n",
    "\n",
    "sys.stdout = orig_stdout\n",
    "f.close()"
   ]
  },
  {
   "cell_type": "markdown",
   "metadata": {},
   "source": [
    "In excel I will extract the list of 98 slides.  \n",
    "`wsi.txt` will be the output."
   ]
  },
  {
   "cell_type": "code",
   "execution_count": 6,
   "metadata": {},
   "outputs": [],
   "source": [
    "from fastcore.xtras import Path"
   ]
  },
  {
   "cell_type": "code",
   "execution_count": 7,
   "metadata": {},
   "outputs": [
    {
     "data": {
      "text/plain": [
       "['b2012.5967_CD3',\n",
       " 'b2013.27504_CD3',\n",
       " 'B2011.24261_CD3',\n",
       " 'b2015.446_H_CD3',\n",
       " 'b2014.884_CD3',\n",
       " 'b2013.10225_CD3',\n",
       " 'B2008.365_CD3',\n",
       " 'B2001.32133_CD3',\n",
       " 'b2008.8850_CD3',\n",
       " 'B2008.37930_CD3']"
      ]
     },
     "execution_count": 7,
     "metadata": {},
     "output_type": "execute_result"
    }
   ],
   "source": [
    "path  = Path(imageDir+'wsi.txt')\n",
    "\n",
    "allWSI = (path).read_text().split('\\n')\n",
    "allWSI[:10]"
   ]
  },
  {
   "cell_type": "code",
   "execution_count": 8,
   "metadata": {},
   "outputs": [],
   "source": [
    "import os\n",
    "import numpy as np\n",
    "import shutil\n",
    "import pandas as pd\n"
   ]
  },
  {
   "cell_type": "code",
   "execution_count": 9,
   "metadata": {},
   "outputs": [
    {
     "name": "stdout",
     "output_type": "stream",
     "text": [
      "Done\n"
     ]
    }
   ],
   "source": [
    "import itertools\n",
    "def train_test_split(output_dir):\n",
    "    output_path = Path(output_dir)\n",
    "    inputfile = output_path/'wsi.txt'\n",
    "    path  = Path(inputfile)\n",
    "\n",
    "    allWSI = (path).read_text().split('\\n')\n",
    "    train_ratio = 0.80\n",
    "\n",
    "    np.random.seed(1923)\n",
    "    np.random.shuffle(allWSI)\n",
    "    train_WSI, val_WSI = np.split(np.array(allWSI),\n",
    "                                             [int(len(allWSI) * train_ratio),\n",
    "                                             ])\n",
    "    valSlide = output_path/'valSlides.txt'\n",
    "    trainSlide = output_path/'trainSlides.txt'\n",
    "    Path(valSlide).touch()\n",
    "    Path(trainSlide).touch()\n",
    "    \n",
    "    v = open(valSlide, 'w')\n",
    "    t = open(trainSlide, 'w')\n",
    "    \n",
    "    for tra, val in itertools.zip_longest(train_WSI.tolist(), val_WSI.tolist()):\n",
    "        print(val, file=v)\n",
    "        print(tra, file=t)\n",
    "    \n",
    "    print(\"Done\")\n",
    "\n",
    "       \n",
    "train_test_split(imageDir)"
   ]
  },
  {
   "cell_type": "code",
   "execution_count": 10,
   "metadata": {},
   "outputs": [],
   "source": [
    "output_path = Path(imageDir)\n",
    "valSlide = output_path/'valSlides.txt'\n",
    "trainSlide = output_path/'trainSlides.txt'\n",
    "trainNames=[line.strip() for line in open(trainSlide)]\n",
    "valNames=[line.strip() for line in open(valSlide)]\n",
    "\n",
    "valTxt = os.path.join(imageDir,'valid.txt')\n",
    "trainTxt = os.path.join(imageDir,'train.txt')\n",
    "Path(valTxt).touch()\n",
    "Path(trainTxt).touch()\n"
   ]
  },
  {
   "cell_type": "code",
   "execution_count": 12,
   "metadata": {},
   "outputs": [],
   "source": [
    "vt = open(valTxt, 'w')\n",
    "tt = open(trainTxt, 'w')\n",
    "for imageFilename in allImages:\n",
    "    #print(imageFilename)\n",
    "    if imageFilename.startswith(tuple(trainNames)):\n",
    "        print(imageFilename, file=tt)\n",
    "        #print(\"Training: \",imageFilename)    \n",
    "    elif imageFilename.startswith(tuple(valNames)):\n",
    "        print(imageFilename, file=vt)\n",
    "        #print(\"Validation: \",imageFilename)"
   ]
  },
  {
   "cell_type": "markdown",
   "metadata": {},
   "source": [
    "At the end, check the files. Because of the lenght issue there might be some funny results."
   ]
  }
 ],
 "metadata": {
  "kernelspec": {
   "display_name": "Python 3",
   "language": "python",
   "name": "python3"
  },
  "language_info": {
   "codemirror_mode": {
    "name": "ipython",
    "version": 3
   },
   "file_extension": ".py",
   "mimetype": "text/x-python",
   "name": "python",
   "nbconvert_exporter": "python",
   "pygments_lexer": "ipython3",
   "version": "3.7.8"
  }
 },
 "nbformat": 4,
 "nbformat_minor": 4
}
